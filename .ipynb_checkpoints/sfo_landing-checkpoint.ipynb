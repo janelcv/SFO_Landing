{
 "cells": [
  {
   "cell_type": "code",
   "execution_count": 1,
   "metadata": {},
   "outputs": [],
   "source": [
    "import pandas as pd\n",
    "import numpy as np\n",
    "from sqlalchemy import create_engine\n",
    "from bs4 import BeautifulSoup\n",
    "import requests\n",
    "import time"
   ]
  },
  {
   "cell_type": "markdown",
   "metadata": {},
   "source": [
    "\n",
    "### Transform Delay DataFrame"
   ]
  },
  {
   "cell_type": "code",
   "execution_count": null,
   "metadata": {
    "inputHidden": false,
    "outputHidden": false
   },
   "outputs": [],
   "source": [
    "#importing files \n",
    "delay_2008 = \"Resources/2008.csv\"\n",
    "delay_df = pd.read_csv(delay_2008)\n",
    "delay_df.tail()"
   ]
  },
  {
   "cell_type": "code",
   "execution_count": null,
   "metadata": {
    "inputHidden": false,
    "outputHidden": false
   },
   "outputs": [],
   "source": [
    "#Filtering Data with final destination SFO\n",
    "delay_df = delay_df.loc[delay_df['Dest'] == 'SFO']"
   ]
  },
  {
   "cell_type": "code",
   "execution_count": null,
   "metadata": {
    "inputHidden": false,
    "outputHidden": false
   },
   "outputs": [],
   "source": [
    "#Filtering Data with delays\n",
    "delay_df = delay_df.loc[delay_df['ArrDelay'] > 0]"
   ]
  },
  {
   "cell_type": "code",
   "execution_count": null,
   "metadata": {
    "inputHidden": false,
    "outputHidden": false
   },
   "outputs": [],
   "source": [
    "#Creating column to set as 'id'\n",
    "delay_df['ID'] = range(0, len(delay_df))\n",
    "delay_df.head()"
   ]
  },
  {
   "cell_type": "code",
   "execution_count": null,
   "metadata": {
    "inputHidden": false,
    "outputHidden": false
   },
   "outputs": [],
   "source": [
    "list(delay_df)"
   ]
  },
  {
   "cell_type": "code",
   "execution_count": null,
   "metadata": {
    "inputHidden": false,
    "outputHidden": false
   },
   "outputs": [],
   "source": [
    "# Create a filtered dataframe from specific columns\n",
    "delay_cols = [\"ID\", \"FlightNum\",\"TailNum\", \"UniqueCarrier\", \"Year\", \"Month\", \"DayOfWeek\", 'Origin',\n",
    " 'Dest']\n",
    "delay_transformed = delay_df[delay_cols].copy()"
   ]
  },
  {
   "cell_type": "code",
   "execution_count": null,
   "metadata": {
    "inputHidden": false,
    "outputHidden": false
   },
   "outputs": [],
   "source": [
    "# Rename the column headers\n",
    "delay_transformed = delay_transformed.rename(columns={\"ID\": \"id\",\n",
    "                                                      \"FlightNum\": \"flight_number\",\n",
    "                                                      \"TailNum\": \"tail_number\",\n",
    "                                                          \"UniqueCarrier\": \"unique_carrier\",\n",
    "                                                          \"Year\": \"year\",\n",
    "                                                     \"Month\": \"month\",\n",
    "                                                     \"DayOfWeek\": \"week_day\",\n",
    "                                                     \"Origin\": \"origin\",\n",
    "                                                     \"Dest\": \"destination\"})\n",
    "\n",
    "# Clean the data by dropping duplicates and setting the index\n",
    "delay_transformed.drop_duplicates(\"id\", inplace=True)\n",
    "delay_transformed.set_index(\"id\", inplace=True)\n",
    "\n",
    "delay_transformed.head()"
   ]
  },
  {
   "cell_type": "markdown",
   "metadata": {
    "inputHidden": false,
    "outputHidden": false
   },
   "source": [
    "### Transform Landing DataFrame"
   ]
  },
  {
   "cell_type": "code",
   "execution_count": null,
   "metadata": {},
   "outputs": [],
   "source": [
    "#importing files \n",
    "landings_file = \"Resources/air-traffic-landings-statistics.csv\"\n",
    "landings_df = pd.read_csv(landings_file)\n",
    "landings_df.head()"
   ]
  },
  {
   "cell_type": "code",
   "execution_count": null,
   "metadata": {},
   "outputs": [],
   "source": [
    "# Changing column type to split the values\n",
    "landings_df['Activity Period'] = landings_df['Activity Period'].astype(str)\n",
    "landings_df['Year'] = landings_df['Activity Period'].str[0:4]\n",
    "landings_df['Month'] = landings_df['Activity Period'].str[4:6]"
   ]
  },
  {
   "cell_type": "code",
   "execution_count": null,
   "metadata": {},
   "outputs": [],
   "source": [
    "# Changing type back into int\n",
    "landings_df['Year'] = landings_df['Year'].astype(int)\n",
    "landings_df['Month'] = landings_df['Month'].astype(int)"
   ]
  },
  {
   "cell_type": "code",
   "execution_count": null,
   "metadata": {
    "inputHidden": false,
    "outputHidden": false
   },
   "outputs": [],
   "source": [
    "#Filtering data\n",
    "landings_df = landings_df.loc[landings_df['Year'] == 2008]"
   ]
  },
  {
   "cell_type": "code",
   "execution_count": null,
   "metadata": {
    "inputHidden": false,
    "outputHidden": false
   },
   "outputs": [],
   "source": [
    "#Dropping duplicates\n",
    "landings_df.drop_duplicates([\"Year\", \"Month\", \"Operating Airline IATA Code\", \"GEO Region\",\"Landing Aircraft Type\", \"Aircraft Model\", \"Aircraft Version\"], keep= 'last').head()"
   ]
  },
  {
   "cell_type": "code",
   "execution_count": null,
   "metadata": {
    "inputHidden": false,
    "outputHidden": false
   },
   "outputs": [],
   "source": [
    "#Dropping splited column\n",
    "landings_df.drop([\"Activity Period\"], axis=1).head()"
   ]
  },
  {
   "cell_type": "code",
   "execution_count": null,
   "metadata": {
    "inputHidden": false,
    "outputHidden": false
   },
   "outputs": [],
   "source": [
    "#Creating column to set as 'id'\n",
    "landings_df['ID'] = range(0, 0+len(landings_df))"
   ]
  },
  {
   "cell_type": "code",
   "execution_count": null,
   "metadata": {
    "inputHidden": false,
    "outputHidden": false
   },
   "outputs": [],
   "source": [
    "# Create a filtered dataframe from specific columns\n",
    "landings_cols = [\"ID\",\"Operating Airline IATA Code\",\"Year\", \"Month\", \"GEO Region\", \n",
    "                 \"Landing Aircraft Type\", \"Aircraft Manufacturer\", \"Aircraft Model\"]\n",
    "landings_transformed = landings_df[landings_cols].copy()"
   ]
  },
  {
   "cell_type": "code",
   "execution_count": null,
   "metadata": {
    "inputHidden": false,
    "outputHidden": false
   },
   "outputs": [],
   "source": [
    "# Rename the column headers\n",
    "landings_transformed = landings_transformed.rename(columns={\"ID\":\"id\",\n",
    "                                                            \"Operating Airline IATA Code\": \"unique_carrier\",\n",
    "                                                          \"Year\": \"year\",\n",
    "                                                          \"Month\": \"month\",\n",
    "                                                     \"GEO Region\": \"geo_region\",\n",
    "                                                     \"Landing Aircraft Type\": \"aircraft_type\",\n",
    "                                                           \"Aircraft Manufacturer\": \"aircraft_manufacturer\",\n",
    "                                                     \"Aircraft Model\": \"aircraft_Model\"})\n",
    "\n",
    "#landings_transformed.drop_duplicates([\"unique_carrier\",\"geo_region\"], keep= 'last')\n",
    "landings_transformed.drop_duplicates(\"id\", inplace=True)\n",
    "landings_transformed.set_index(\"id\", inplace=True)\n",
    "landings_transformed.head()"
   ]
  },
  {
   "cell_type": "code",
   "execution_count": null,
   "metadata": {
    "inputHidden": false,
    "outputHidden": false
   },
   "outputs": [],
   "source": []
  },
  {
   "cell_type": "markdown",
   "metadata": {},
   "source": [
    "### Transform Passenger DataFrame"
   ]
  },
  {
   "cell_type": "code",
   "execution_count": null,
   "metadata": {
    "inputHidden": false,
    "outputHidden": false
   },
   "outputs": [],
   "source": [
    "#importing files \n",
    "passenger_file = \"Resources/air-traffic-passenger-statistics.csv\"\n",
    "passenger_df = pd.read_csv(passenger_file)\n",
    "passenger_df.head()"
   ]
  },
  {
   "cell_type": "code",
   "execution_count": null,
   "metadata": {
    "inputHidden": false,
    "outputHidden": false
   },
   "outputs": [],
   "source": [
    "# Changing column type to split the values\n",
    "passenger_df['Activity Period'] = passenger_df['Activity Period'].astype(str)\n",
    "passenger_df['Year'] = passenger_df['Activity Period'].str[0:4]\n",
    "passenger_df['Month'] = passenger_df['Activity Period'].str[4:6]"
   ]
  },
  {
   "cell_type": "code",
   "execution_count": null,
   "metadata": {
    "inputHidden": false,
    "outputHidden": false
   },
   "outputs": [],
   "source": [
    "# Changing type back into int\n",
    "passenger_df['Year'] = passenger_df['Year'].astype(int)\n",
    "passenger_df['Month'] = passenger_df['Month'].astype(int)"
   ]
  },
  {
   "cell_type": "code",
   "execution_count": null,
   "metadata": {
    "inputHidden": false,
    "outputHidden": false
   },
   "outputs": [],
   "source": [
    "#Filtering data\n",
    "passenger_df = passenger_df.loc[passenger_df['Year'] == 2008]\n",
    "passenger_df.head()"
   ]
  },
  {
   "cell_type": "code",
   "execution_count": null,
   "metadata": {
    "inputHidden": false,
    "outputHidden": false
   },
   "outputs": [],
   "source": [
    "#Dropping duplicates\n",
    "passenger_df.drop_duplicates([\"Year\",\"Operating Airline IATA Code\", \"GEO Region\",\n",
    "                              \"Terminal\",\"Boarding Area\", \"Passenger Count\"], keep= 'last').head()"
   ]
  },
  {
   "cell_type": "code",
   "execution_count": null,
   "metadata": {
    "inputHidden": false,
    "outputHidden": false
   },
   "outputs": [],
   "source": [
    "#Creating column to set as 'id'\n",
    "passenger_df['ID'] = range(0, 0+len(passenger_df))"
   ]
  },
  {
   "cell_type": "code",
   "execution_count": null,
   "metadata": {
    "inputHidden": false,
    "outputHidden": false
   },
   "outputs": [],
   "source": [
    "#Dropping splited column\n",
    "passenger_df.drop([\"Activity Period\"], axis=1).head()"
   ]
  },
  {
   "cell_type": "code",
   "execution_count": null,
   "metadata": {
    "inputHidden": false,
    "outputHidden": false
   },
   "outputs": [],
   "source": [
    "# Create a filtered dataframe from specific columns\n",
    "passenger_cols = [\"ID\",\"Operating Airline IATA Code\",\"Year\", \"Month\", \"GEO Region\", \n",
    "                 \"Terminal\", \"Boarding Area\", \"Passenger Count\"]\n",
    "passenger_transformed = passenger_df[passenger_cols].copy()\n",
    "\n",
    "# Rename the column headers\n",
    "passenger_transformed = passenger_transformed.rename(columns={\"ID\":\"id\",\n",
    "                                                            \"Operating Airline IATA Code\": \"unique_carrier\",\n",
    "                                                          \"Year\": \"year\",\n",
    "                                                          \"Month\": \"month\",\n",
    "                                                     \"GEO Region\": \"geo_region\",\n",
    "                                                     \"Terminal\": \"terminal\",\n",
    "                                                           \"Boarding Area\": \"boarding_area\",\n",
    "                                                     \"Passenger Count\": \"passengers_number\"})\n",
    "\n",
    "#landings_transformed.drop_duplicates([\"unique_carrier\",\"geo_region\"], keep= 'last')\n",
    "passenger_transformed.drop_duplicates(\"id\", inplace=True)\n",
    "passenger_transformed.set_index(\"id\", inplace=True)\n",
    "passenger_transformed.head()"
   ]
  },
  {
   "cell_type": "code",
   "execution_count": null,
   "metadata": {
    "inputHidden": false,
    "outputHidden": false
   },
   "outputs": [],
   "source": [
    "#connection_string = \"root:password@localhost/sfo_db\"\n",
    "#engine = create_engine(f'mysql://{connection_string}')"
   ]
  },
  {
   "cell_type": "code",
   "execution_count": null,
   "metadata": {
    "inputHidden": false,
    "outputHidden": false
   },
   "outputs": [],
   "source": [
    "# Confirm tables\n",
    "#engine.table_names()"
   ]
  },
  {
   "cell_type": "code",
   "execution_count": null,
   "metadata": {
    "inputHidden": false,
    "outputHidden": false
   },
   "outputs": [],
   "source": [
    "#delay_transformed.to_sql(name='delays', con=engine, if_exists='append', index=True)\n"
   ]
  },
  {
   "cell_type": "code",
   "execution_count": null,
   "metadata": {
    "inputHidden": false,
    "outputHidden": false
   },
   "outputs": [],
   "source": [
    "#landings_transformed.to_sql(name='landings', con=engine, if_exists='append', index=True)"
   ]
  },
  {
   "cell_type": "code",
   "execution_count": null,
   "metadata": {
    "inputHidden": false,
    "outputHidden": false
   },
   "outputs": [],
   "source": [
    "#passenger_transformed.to_sql(name='passengers', con=engine, if_exists='append', index=True)"
   ]
  },
  {
   "cell_type": "code",
   "execution_count": null,
   "metadata": {
    "inputHidden": false,
    "outputHidden": false
   },
   "outputs": [],
   "source": [
    "#Creating an array of unique values\n",
    "unique_tailnum = delay_df[\"TailNum\"].unique()"
   ]
  },
  {
   "cell_type": "code",
   "execution_count": null,
   "metadata": {
    "inputHidden": false,
    "outputHidden": false
   },
   "outputs": [],
   "source": [
    "uniquelist = unique_tailnum + \" is Not Assigned/Reserved\""
   ]
  },
  {
   "cell_type": "code",
   "execution_count": null,
   "metadata": {
    "inputHidden": false,
    "outputHidden": false
   },
   "outputs": [],
   "source": [
    "uniquelist[2]"
   ]
  },
  {
   "cell_type": "code",
   "execution_count": null,
   "metadata": {
    "inputHidden": false,
    "outputHidden": false
   },
   "outputs": [],
   "source": [
    "#Creating a list\n",
    "tail_number = unique_tailnum.tolist()"
   ]
  },
  {
   "cell_type": "code",
   "execution_count": null,
   "metadata": {
    "inputHidden": false,
    "outputHidden": false
   },
   "outputs": [],
   "source": [
    "#Creating list of urls for each unique Tail Number  \n",
    "new_urls = [\"https://registry.faa.gov/aircraftinquiry/NNum_Results.aspx?nNumberTxt=\" + x for x in tail_number]"
   ]
  },
  {
   "cell_type": "code",
   "execution_count": null,
   "metadata": {
    "inputHidden": false,
    "outputHidden": false
   },
   "outputs": [],
   "source": [
    "new_urls"
   ]
  },
  {
   "cell_type": "code",
   "execution_count": null,
   "metadata": {
    "inputHidden": false,
    "outputHidden": false
   },
   "outputs": [],
   "source": [
    "name_list = []\n",
    "manufacturer_list = []\n",
    "model_list = []\n",
    "year_list = []\n",
    "tail_list = []"
   ]
  },
  {
   "cell_type": "code",
   "execution_count": null,
   "metadata": {
    "inputHidden": false,
    "outputHidden": false
   },
   "outputs": [],
   "source": [
    "#Creating a function which will scrape information from a website   \n",
    "def scrape():\n",
    "    counter = 0\n",
    "    for one_url in new_urls[:3]:\n",
    "        try:\n",
    "            response = requests.get(one_url)\n",
    "            soup = BeautifulSoup(response.text, 'html.parser')\n",
    "            print(f\"passed1\")\n",
    "            tail_flag = soup.find(\"span\", class_='Inquiry_InputLabel')\n",
    "            print(f\"passed1-1\")\n",
    "            if(tail_flag != uniquelist):\n",
    "               tail = tail_flag.text\n",
    "               tail_list.append(tail)\n",
    "            print(f\"passed2\")\n",
    "            model_flag = soup.find(\"span\", class_='Results_DataText', attrs = {'id':'content_drptrDeRegAircraft_lbDeRegModel_0'})\n",
    "            print(f\"passed3\")\n",
    "            if(model_flag == None):\n",
    "                model = soup.find(\"td\", class_='Results_DataText', attrs = {'id':'content_Label7'})\n",
    "            else:\n",
    "                model = model_flag.text\n",
    "                model_list.append(model)\n",
    "            print(f\"passed4\")\n",
    "            manufacturer_flag = soup.find(\"span\", class_='Results_DataText', attrs = {'id':'content_lbMfrName'})\n",
    "            print(f\"passed5\")\n",
    "            if(manufacturer_flag == None):\n",
    "                manufacturer = soup.find(\"span\", class_='Results_DataText', attrs = {'id':'content_drptrDeRegAircraft_lbDeRegMfrName_0'})\n",
    "            else:\n",
    "                manufacturer = manufacturer_flag.text\n",
    "                manufacturer_list.append(manufacturer)\n",
    "            print(f\"passed6\")\n",
    "            year_flag = soup.find(\"span\", class_='Results_DataText', attrs = {'id':'content_Label17'})\n",
    "            print(f\"passed7\")\n",
    "            if(year_flag == None):\n",
    "                year = soup.find(\"span\", class_='Results_DataText', attrs = {'id':'content_drptrDeRegAircraft_lbDeRegYearMfr_0'})\n",
    "            else:\n",
    "                year = year_flag.text\n",
    "                year_list.append(year)\n",
    "            print(f\"passed8\")\n",
    "            name_flag = soup.find(\"span\", class_='Results_DataText', attrs = {'id':'content_lbOwnerName'})\n",
    "            print(f\"passed9\")\n",
    "            if(name_flag == None):\n",
    "                name = soup.find(\"span\", class_='Results_DataText', attrs = {'id':'content_drptrDeRegAircraft_lbDROwnerName_0'})\n",
    "            else:\n",
    "                name = name_flag .text\n",
    "                name_list.append(name)\n",
    "            print(f\"passed10\")\n",
    "            counter = counter + 1\n",
    "            print(str(counter)+\" completed\")\n",
    "            time.sleep(1)\n",
    "        except KeyError:\n",
    "            print(f\"Error. Skipping...\")     "
   ]
  },
  {
   "cell_type": "code",
   "execution_count": null,
   "metadata": {
    "inputHidden": false,
    "outputHidden": false
   },
   "outputs": [],
   "source": [
    "scrape()"
   ]
  },
  {
   "cell_type": "code",
   "execution_count": null,
   "metadata": {
    "inputHidden": false,
    "outputHidden": false
   },
   "outputs": [],
   "source": [
    "print(tail_list)"
   ]
  },
  {
   "cell_type": "code",
   "execution_count": null,
   "metadata": {
    "inputHidden": false,
    "outputHidden": false
   },
   "outputs": [],
   "source": [
    "print(model_list)"
   ]
  },
  {
   "cell_type": "code",
   "execution_count": null,
   "metadata": {
    "inputHidden": false,
    "outputHidden": false
   },
   "outputs": [],
   "source": [
    "print(manufacturer_list)"
   ]
  },
  {
   "cell_type": "code",
   "execution_count": null,
   "metadata": {
    "inputHidden": false,
    "outputHidden": false
   },
   "outputs": [],
   "source": [
    "print(name_list)"
   ]
  },
  {
   "cell_type": "code",
   "execution_count": null,
   "metadata": {
    "inputHidden": false,
    "outputHidden": false
   },
   "outputs": [],
   "source": [
    "print(year_list)"
   ]
  },
  {
   "cell_type": "code",
   "execution_count": null,
   "metadata": {
    "inputHidden": false,
    "outputHidden": false
   },
   "outputs": [],
   "source": [
    "tail_dict ={\"model_list\":model_list}"
   ]
  },
  {
   "cell_type": "code",
   "execution_count": null,
   "metadata": {
    "inputHidden": false,
    "outputHidden": false
   },
   "outputs": [],
   "source": [
    "tail_df = pd.DataFrame(tail_dict)"
   ]
  },
  {
   "cell_type": "code",
   "execution_count": null,
   "metadata": {
    "inputHidden": false,
    "outputHidden": false
   },
   "outputs": [],
   "source": [
    "tail_df.drop_duplicates(\"model_list\", inplace=True)"
   ]
  },
  {
   "cell_type": "code",
   "execution_count": null,
   "metadata": {
    "inputHidden": false,
    "outputHidden": false
   },
   "outputs": [],
   "source": [
    "tail_df"
   ]
  },
  {
   "cell_type": "code",
   "execution_count": null,
   "metadata": {
    "inputHidden": false,
    "outputHidden": false
   },
   "outputs": [],
   "source": [
    "aircraft_dict ={\"tail_number\":tail_number,\n",
    "                 \"model\": model_list,\n",
    "                 \"Manufacturer\": manufacturer_list,\n",
    "                    \"year\": year_list\n",
    "                  \"airline_name\": name_list}"
   ]
  },
  {
   "cell_type": "code",
   "execution_count": null,
   "metadata": {
    "inputHidden": false,
    "outputHidden": false
   },
   "outputs": [],
   "source": [
    "aircraft_df = pd.DataFrame(aircraft_dict)"
   ]
  },
  {
   "cell_type": "code",
   "execution_count": null,
   "metadata": {
    "inputHidden": false,
    "outputHidden": false
   },
   "outputs": [],
   "source": [
    "#Create column id \n",
    "aircraft_df[\"id\"] = range(0, len(aircraft_df))"
   ]
  },
  {
   "cell_type": "code",
   "execution_count": null,
   "metadata": {
    "inputHidden": false,
    "outputHidden": false
   },
   "outputs": [],
   "source": []
  },
  {
   "cell_type": "code",
   "execution_count": null,
   "metadata": {
    "inputHidden": false,
    "outputHidden": false
   },
   "outputs": [],
   "source": [
    "aircraft_df"
   ]
  },
  {
   "cell_type": "code",
   "execution_count": null,
   "metadata": {
    "inputHidden": false,
    "outputHidden": false
   },
   "outputs": [],
   "source": [
    "#Drop duplicates \n",
    "aircraft_df.drop_duplicates(\"tail_number\", inplace=True)"
   ]
  },
  {
   "cell_type": "code",
   "execution_count": null,
   "metadata": {
    "inputHidden": false,
    "outputHidden": false
   },
   "outputs": [],
   "source": [
    "aircraft_df.to_csv(\"Resources/aircraft_df.csv\", index = False)"
   ]
  },
  {
   "cell_type": "code",
   "execution_count": null,
   "metadata": {
    "inputHidden": false,
    "outputHidden": false
   },
   "outputs": [],
   "source": [
    "len(model_list)"
   ]
  },
  {
   "cell_type": "code",
   "execution_count": null,
   "metadata": {
    "inputHidden": false,
    "outputHidden": false
   },
   "outputs": [],
   "source": [
    "len(tail_number)"
   ]
  },
  {
   "cell_type": "code",
   "execution_count": null,
   "metadata": {
    "inputHidden": false,
    "outputHidden": false
   },
   "outputs": [],
   "source": [
    "len(manufacturer_list)"
   ]
  },
  {
   "cell_type": "code",
   "execution_count": null,
   "metadata": {
    "inputHidden": false,
    "outputHidden": false
   },
   "outputs": [],
   "source": [
    "len(name_list)"
   ]
  },
  {
   "cell_type": "code",
   "execution_count": null,
   "metadata": {
    "inputHidden": false,
    "outputHidden": false
   },
   "outputs": [],
   "source": []
  }
 ],
 "metadata": {
  "kernel_info": {
   "name": "python3"
  },
  "kernelspec": {
   "display_name": "Python 3",
   "language": "python",
   "name": "python3"
  },
  "language_info": {
   "codemirror_mode": {
    "name": "ipython",
    "version": 3
   },
   "file_extension": ".py",
   "mimetype": "text/x-python",
   "name": "python",
   "nbconvert_exporter": "python",
   "pygments_lexer": "ipython3",
   "version": "3.6.5"
  },
  "nteract": {
   "version": "0.12.3"
  }
 },
 "nbformat": 4,
 "nbformat_minor": 2
}
