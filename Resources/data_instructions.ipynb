{
  "cells": [
    {
      "cell_type": "markdown",
      "source": [
        "### Create folder \"Resources\", dowload files into this folder to operate jupyter notebok."
      ],
      "metadata": {}
    },
    {
      "cell_type": "markdown",
      "source": [
        "##### Download File for year 2008.\n",
        "http://stat-computing.org/dataexpo/2009/the-data.html\n"
      ],
      "metadata": {}
    },
    {
      "cell_type": "markdown",
      "source": [
        "##### Download File air-traffic-landings-statistics.csv\n",
        "https://www.kaggle.com/san-francisco/sf-air-traffic-passenger-and-landings-statistics#air-traffic-landings-statistics.csv"
      ],
      "metadata": {}
    },
    {
      "cell_type": "markdown",
      "source": [
        "##### Download File air-traffic-passenger-statistics.csv\n",
        "https://www.kaggle.com/san-francisco/sf-air-traffic-passenger-and-landings-statistics#air-traffic-passenger-statistics.csv"
      ],
      "metadata": {}
    }
  ],
  "metadata": {
    "kernel_info": {
      "name": "python3"
    },
    "language_info": {
      "name": "python",
      "version": "3.6.5",
      "mimetype": "text/x-python",
      "codemirror_mode": {
        "name": "ipython",
        "version": 3
      },
      "pygments_lexer": "ipython3",
      "nbconvert_exporter": "python",
      "file_extension": ".py"
    },
    "kernelspec": {
      "name": "python3",
      "language": "python",
      "display_name": "Python 3"
    },
    "nteract": {
      "version": "0.12.3"
    }
  },
  "nbformat": 4,
  "nbformat_minor": 4
}